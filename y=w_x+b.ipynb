{
  "nbformat": 4,
  "nbformat_minor": 0,
  "metadata": {
    "colab": {
      "provenance": [],
      "authorship_tag": "ABX9TyP1jlpZnBkfrX2M89L6x5bc",
      "include_colab_link": true
    },
    "kernelspec": {
      "name": "python3",
      "display_name": "Python 3"
    },
    "language_info": {
      "name": "python"
    },
    "accelerator": "TPU",
    "widgets": {
      "application/vnd.jupyter.widget-state+json": {
        "3e9c9a0cdf7f45f581214dc94ad83631": {
          "model_module": "@jupyter-widgets/controls",
          "model_name": "VBoxModel",
          "model_module_version": "1.5.0",
          "state": {
            "_dom_classes": [
              "widget-interact"
            ],
            "_model_module": "@jupyter-widgets/controls",
            "_model_module_version": "1.5.0",
            "_model_name": "VBoxModel",
            "_view_count": null,
            "_view_module": "@jupyter-widgets/controls",
            "_view_module_version": "1.5.0",
            "_view_name": "VBoxView",
            "box_style": "",
            "children": [
              "IPY_MODEL_3352ad4aac5440f7baad284f736a1225",
              "IPY_MODEL_fe8f05896f36473d9e9ed9c02f9e93cf",
              "IPY_MODEL_2920295680d14669a144a432ac454b1c"
            ],
            "layout": "IPY_MODEL_94a0e9bc21d14fe28a29ffa686abd856"
          }
        },
        "3352ad4aac5440f7baad284f736a1225": {
          "model_module": "@jupyter-widgets/controls",
          "model_name": "IntSliderModel",
          "model_module_version": "1.5.0",
          "state": {
            "_dom_classes": [],
            "_model_module": "@jupyter-widgets/controls",
            "_model_module_version": "1.5.0",
            "_model_name": "IntSliderModel",
            "_view_count": null,
            "_view_module": "@jupyter-widgets/controls",
            "_view_module_version": "1.5.0",
            "_view_name": "IntSliderView",
            "continuous_update": true,
            "description": "w",
            "description_tooltip": null,
            "disabled": false,
            "layout": "IPY_MODEL_2a0a8790f9174ca5876745d3cde7a137",
            "max": 100,
            "min": -100,
            "orientation": "horizontal",
            "readout": true,
            "readout_format": "d",
            "step": 1,
            "style": "IPY_MODEL_78eba96fc1b745f4b6fa78e256fa8b25",
            "value": 9
          }
        },
        "fe8f05896f36473d9e9ed9c02f9e93cf": {
          "model_module": "@jupyter-widgets/controls",
          "model_name": "IntSliderModel",
          "model_module_version": "1.5.0",
          "state": {
            "_dom_classes": [],
            "_model_module": "@jupyter-widgets/controls",
            "_model_module_version": "1.5.0",
            "_model_name": "IntSliderModel",
            "_view_count": null,
            "_view_module": "@jupyter-widgets/controls",
            "_view_module_version": "1.5.0",
            "_view_name": "IntSliderView",
            "continuous_update": true,
            "description": "b",
            "description_tooltip": null,
            "disabled": false,
            "layout": "IPY_MODEL_88f985c5d8c54f96a89a6f0720fe794a",
            "max": 100,
            "min": -100,
            "orientation": "horizontal",
            "readout": true,
            "readout_format": "d",
            "step": 1,
            "style": "IPY_MODEL_e0cf8efea1e74c12b00ec993770d707e",
            "value": 30
          }
        },
        "2920295680d14669a144a432ac454b1c": {
          "model_module": "@jupyter-widgets/output",
          "model_name": "OutputModel",
          "model_module_version": "1.0.0",
          "state": {
            "_dom_classes": [],
            "_model_module": "@jupyter-widgets/output",
            "_model_module_version": "1.0.0",
            "_model_name": "OutputModel",
            "_view_count": null,
            "_view_module": "@jupyter-widgets/output",
            "_view_module_version": "1.0.0",
            "_view_name": "OutputView",
            "layout": "IPY_MODEL_78457dd5601b43b08dc4affab019d369",
            "msg_id": "",
            "outputs": [
              {
                "output_type": "display_data",
                "data": {
                  "text/plain": "<Figure size 640x480 with 1 Axes>",
                  "image/png": "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\n"
                },
                "metadata": {}
              }
            ]
          }
        },
        "94a0e9bc21d14fe28a29ffa686abd856": {
          "model_module": "@jupyter-widgets/base",
          "model_name": "LayoutModel",
          "model_module_version": "1.2.0",
          "state": {
            "_model_module": "@jupyter-widgets/base",
            "_model_module_version": "1.2.0",
            "_model_name": "LayoutModel",
            "_view_count": null,
            "_view_module": "@jupyter-widgets/base",
            "_view_module_version": "1.2.0",
            "_view_name": "LayoutView",
            "align_content": null,
            "align_items": null,
            "align_self": null,
            "border": null,
            "bottom": null,
            "display": null,
            "flex": null,
            "flex_flow": null,
            "grid_area": null,
            "grid_auto_columns": null,
            "grid_auto_flow": null,
            "grid_auto_rows": null,
            "grid_column": null,
            "grid_gap": null,
            "grid_row": null,
            "grid_template_areas": null,
            "grid_template_columns": null,
            "grid_template_rows": null,
            "height": null,
            "justify_content": null,
            "justify_items": null,
            "left": null,
            "margin": null,
            "max_height": null,
            "max_width": null,
            "min_height": null,
            "min_width": null,
            "object_fit": null,
            "object_position": null,
            "order": null,
            "overflow": null,
            "overflow_x": null,
            "overflow_y": null,
            "padding": null,
            "right": null,
            "top": null,
            "visibility": null,
            "width": null
          }
        },
        "2a0a8790f9174ca5876745d3cde7a137": {
          "model_module": "@jupyter-widgets/base",
          "model_name": "LayoutModel",
          "model_module_version": "1.2.0",
          "state": {
            "_model_module": "@jupyter-widgets/base",
            "_model_module_version": "1.2.0",
            "_model_name": "LayoutModel",
            "_view_count": null,
            "_view_module": "@jupyter-widgets/base",
            "_view_module_version": "1.2.0",
            "_view_name": "LayoutView",
            "align_content": null,
            "align_items": null,
            "align_self": null,
            "border": null,
            "bottom": null,
            "display": null,
            "flex": null,
            "flex_flow": null,
            "grid_area": null,
            "grid_auto_columns": null,
            "grid_auto_flow": null,
            "grid_auto_rows": null,
            "grid_column": null,
            "grid_gap": null,
            "grid_row": null,
            "grid_template_areas": null,
            "grid_template_columns": null,
            "grid_template_rows": null,
            "height": null,
            "justify_content": null,
            "justify_items": null,
            "left": null,
            "margin": null,
            "max_height": null,
            "max_width": null,
            "min_height": null,
            "min_width": null,
            "object_fit": null,
            "object_position": null,
            "order": null,
            "overflow": null,
            "overflow_x": null,
            "overflow_y": null,
            "padding": null,
            "right": null,
            "top": null,
            "visibility": null,
            "width": null
          }
        },
        "78eba96fc1b745f4b6fa78e256fa8b25": {
          "model_module": "@jupyter-widgets/controls",
          "model_name": "SliderStyleModel",
          "model_module_version": "1.5.0",
          "state": {
            "_model_module": "@jupyter-widgets/controls",
            "_model_module_version": "1.5.0",
            "_model_name": "SliderStyleModel",
            "_view_count": null,
            "_view_module": "@jupyter-widgets/base",
            "_view_module_version": "1.2.0",
            "_view_name": "StyleView",
            "description_width": "",
            "handle_color": null
          }
        },
        "88f985c5d8c54f96a89a6f0720fe794a": {
          "model_module": "@jupyter-widgets/base",
          "model_name": "LayoutModel",
          "model_module_version": "1.2.0",
          "state": {
            "_model_module": "@jupyter-widgets/base",
            "_model_module_version": "1.2.0",
            "_model_name": "LayoutModel",
            "_view_count": null,
            "_view_module": "@jupyter-widgets/base",
            "_view_module_version": "1.2.0",
            "_view_name": "LayoutView",
            "align_content": null,
            "align_items": null,
            "align_self": null,
            "border": null,
            "bottom": null,
            "display": null,
            "flex": null,
            "flex_flow": null,
            "grid_area": null,
            "grid_auto_columns": null,
            "grid_auto_flow": null,
            "grid_auto_rows": null,
            "grid_column": null,
            "grid_gap": null,
            "grid_row": null,
            "grid_template_areas": null,
            "grid_template_columns": null,
            "grid_template_rows": null,
            "height": null,
            "justify_content": null,
            "justify_items": null,
            "left": null,
            "margin": null,
            "max_height": null,
            "max_width": null,
            "min_height": null,
            "min_width": null,
            "object_fit": null,
            "object_position": null,
            "order": null,
            "overflow": null,
            "overflow_x": null,
            "overflow_y": null,
            "padding": null,
            "right": null,
            "top": null,
            "visibility": null,
            "width": null
          }
        },
        "e0cf8efea1e74c12b00ec993770d707e": {
          "model_module": "@jupyter-widgets/controls",
          "model_name": "SliderStyleModel",
          "model_module_version": "1.5.0",
          "state": {
            "_model_module": "@jupyter-widgets/controls",
            "_model_module_version": "1.5.0",
            "_model_name": "SliderStyleModel",
            "_view_count": null,
            "_view_module": "@jupyter-widgets/base",
            "_view_module_version": "1.2.0",
            "_view_name": "StyleView",
            "description_width": "",
            "handle_color": null
          }
        },
        "78457dd5601b43b08dc4affab019d369": {
          "model_module": "@jupyter-widgets/base",
          "model_name": "LayoutModel",
          "model_module_version": "1.2.0",
          "state": {
            "_model_module": "@jupyter-widgets/base",
            "_model_module_version": "1.2.0",
            "_model_name": "LayoutModel",
            "_view_count": null,
            "_view_module": "@jupyter-widgets/base",
            "_view_module_version": "1.2.0",
            "_view_name": "LayoutView",
            "align_content": null,
            "align_items": null,
            "align_self": null,
            "border": null,
            "bottom": null,
            "display": null,
            "flex": null,
            "flex_flow": null,
            "grid_area": null,
            "grid_auto_columns": null,
            "grid_auto_flow": null,
            "grid_auto_rows": null,
            "grid_column": null,
            "grid_gap": null,
            "grid_row": null,
            "grid_template_areas": null,
            "grid_template_columns": null,
            "grid_template_rows": null,
            "height": null,
            "justify_content": null,
            "justify_items": null,
            "left": null,
            "margin": null,
            "max_height": null,
            "max_width": null,
            "min_height": null,
            "min_width": null,
            "object_fit": null,
            "object_position": null,
            "order": null,
            "overflow": null,
            "overflow_x": null,
            "overflow_y": null,
            "padding": null,
            "right": null,
            "top": null,
            "visibility": null,
            "width": null
          }
        }
      }
    }
  },
  "cells": [
    {
      "cell_type": "markdown",
      "metadata": {
        "id": "view-in-github",
        "colab_type": "text"
      },
      "source": [
        "<a href=\"https://colab.research.google.com/github/ghwlsro/simpleLinearRegressionStudy/blob/master/y%3Dw_x%2Bb.ipynb\" target=\"_parent\"><img src=\"https://colab.research.google.com/assets/colab-badge.svg\" alt=\"Open In Colab\"/></a>"
      ]
    },
    {
      "cell_type": "code",
      "source": [
        "# 下载并保存数据\n",
        "import pandas as pd\n",
        "data = pd.read_csv('https://raw.githubusercontent.com/ghwlsro/simpleLinearRegressionStudy/master/Salary_Data.csv')\n",
        "# y = w*x + b\n",
        "x = data['YearsExperience']\n",
        "y = data['Salary']"
      ],
      "metadata": {
        "id": "Xpu_e3DfY9-D"
      },
      "execution_count": null,
      "outputs": []
    },
    {
      "cell_type": "code",
      "source": [
        "# 下载字体\n",
        "!pip install wget\n",
        "import wget\n",
        "# !wget -O /usr/share/fonts/truetype/liberation/simhei.ttf \"https://www.wfonts.com/download/data/2014/06/01/simhei/chinese.simhei.ttf\"\n",
        "!wget \"https://www.wfonts.com/download/data/2014/06/01/simhei/chinese.simhei.ttf\""
      ],
      "metadata": {
        "id": "reM3ijpQ32w_"
      },
      "execution_count": null,
      "outputs": []
    },
    {
      "cell_type": "code",
      "source": [
        "# 显示数据\n",
        "import matplotlib.pyplot as plt\n",
        "import matplotlib as mpl\n",
        "\n",
        "mpl.font_manager.fontManager.addfont('/content/chinese.simhei.ttf')\n",
        "mpl.rc('font', family='simhei')\n",
        "plt.rcParams['axes.unicode_minus'] = False"
      ],
      "metadata": {
        "id": "NXj-sytRCzbG"
      },
      "execution_count": null,
      "outputs": []
    },
    {
      "cell_type": "code",
      "source": [
        "# 画线性函数 y = w*x + b\n",
        "\n",
        "def plot_pred(w, b):\n",
        "  # 计算预测的y值\n",
        "  y_pred = w*x + b\n",
        "  # 画预测函数线\n",
        "  plt.plot(x, y_pred, color='blue', label='预测线')\n",
        "  # 画真实数据点图\n",
        "  plt.scatter(x, y, marker=\"x\", color='red', label='真实数据')\n",
        "  plt.xlim([0, 12])\n",
        "  plt.ylim([-60, 140])\n",
        "  plt.title(\"年资-薪水\")\n",
        "  plt.xlabel(\"年资\")\n",
        "  plt.ylabel(\"月薪（千）\")\n",
        "  plt.legend()\n",
        "  plt.show()"
      ],
      "metadata": {
        "id": "5mIVt6IyGwVp"
      },
      "execution_count": null,
      "outputs": []
    },
    {
      "cell_type": "code",
      "source": [
        "# 手动演示plot_pred函数\n",
        "from ipywidgets import interact\n",
        "interact(plot_pred, w=(-100, 100, 1), b=(-100, 100, 1))"
      ],
      "metadata": {
        "colab": {
          "base_uri": "https://localhost:8080/",
          "height": 549,
          "referenced_widgets": [
            "3e9c9a0cdf7f45f581214dc94ad83631",
            "3352ad4aac5440f7baad284f736a1225",
            "fe8f05896f36473d9e9ed9c02f9e93cf",
            "2920295680d14669a144a432ac454b1c",
            "94a0e9bc21d14fe28a29ffa686abd856",
            "2a0a8790f9174ca5876745d3cde7a137",
            "78eba96fc1b745f4b6fa78e256fa8b25",
            "88f985c5d8c54f96a89a6f0720fe794a",
            "e0cf8efea1e74c12b00ec993770d707e",
            "78457dd5601b43b08dc4affab019d369"
          ]
        },
        "id": "P8WX4xOcNxxT",
        "outputId": "1ba92341-040f-4d63-bd06-9135c7ee8f83"
      },
      "execution_count": null,
      "outputs": [
        {
          "output_type": "display_data",
          "data": {
            "text/plain": [
              "interactive(children=(IntSlider(value=0, description='w', min=-100), IntSlider(value=0, description='b', min=-…"
            ],
            "application/vnd.jupyter.widget-view+json": {
              "version_major": 2,
              "version_minor": 0,
              "model_id": "3e9c9a0cdf7f45f581214dc94ad83631"
            }
          },
          "metadata": {}
        },
        {
          "output_type": "execute_result",
          "data": {
            "text/plain": [
              "<function __main__.plot_pred(w, b)>"
            ]
          },
          "metadata": {},
          "execution_count": 40
        }
      ]
    }
  ]
}